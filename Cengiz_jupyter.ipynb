{
 "cells": [
  {
   "cell_type": "code",
   "execution_count": 1,
   "id": "c4e1e95d",
   "metadata": {},
   "outputs": [],
   "source": [
    "import pandas as pd\n",
    "import _pickle \n",
    "import numpy as np\n",
    "\n",
    "with open(\"ads_details_df\",\"rb\") as f:\n",
    "    df= _pickle.load(f)"
   ]
  },
  {
   "cell_type": "code",
   "execution_count": 2,
   "id": "b3ad5150",
   "metadata": {},
   "outputs": [],
   "source": [
    "site=list()\n",
    "nan=0\n",
    "elk=0\n",
    "dog=0"
   ]
  },
  {
   "cell_type": "code",
   "execution_count": 3,
   "id": "b6e942b1",
   "metadata": {},
   "outputs": [],
   "source": [
    "for _, row in df.iterrows():\n",
    "    if  row.isna()['Site İçerisinde']:\n",
    "        site.append(False)\n",
    "    else:\n",
    "        site.append(True)\n",
    "        "
   ]
  },
  {
   "cell_type": "code",
   "execution_count": 4,
   "id": "da6e470d",
   "metadata": {},
   "outputs": [
    {
     "name": "stdout",
     "output_type": "stream",
     "text": [
      "[False, False, False, False, False, False, False, False, False, True]\n"
     ]
    }
   ],
   "source": [
    "print(site[40:50])"
   ]
  },
  {
   "cell_type": "code",
   "execution_count": 5,
   "id": "09e05674",
   "metadata": {},
   "outputs": [],
   "source": [
    "df['Site İçerisinde Binary']=site"
   ]
  },
  {
   "cell_type": "code",
   "execution_count": 13,
   "id": "69b1551e",
   "metadata": {},
   "outputs": [
    {
     "data": {
      "text/html": [
       "<div>\n",
       "<style scoped>\n",
       "    .dataframe tbody tr th:only-of-type {\n",
       "        vertical-align: middle;\n",
       "    }\n",
       "\n",
       "    .dataframe tbody tr th {\n",
       "        vertical-align: top;\n",
       "    }\n",
       "\n",
       "    .dataframe thead th {\n",
       "        text-align: right;\n",
       "    }\n",
       "</style>\n",
       "<table border=\"1\" class=\"dataframe\">\n",
       "  <thead>\n",
       "    <tr style=\"text-align: right;\">\n",
       "      <th></th>\n",
       "      <th>Site İçerisinde</th>\n",
       "      <th>Site İçerisinde Binary</th>\n",
       "    </tr>\n",
       "  </thead>\n",
       "  <tbody>\n",
       "    <tr>\n",
       "      <th>0</th>\n",
       "      <td>NaN</td>\n",
       "      <td>False</td>\n",
       "    </tr>\n",
       "    <tr>\n",
       "      <th>1</th>\n",
       "      <td>NaN</td>\n",
       "      <td>False</td>\n",
       "    </tr>\n",
       "    <tr>\n",
       "      <th>2</th>\n",
       "      <td>NaN</td>\n",
       "      <td>False</td>\n",
       "    </tr>\n",
       "    <tr>\n",
       "      <th>3</th>\n",
       "      <td>NaN</td>\n",
       "      <td>False</td>\n",
       "    </tr>\n",
       "    <tr>\n",
       "      <th>4</th>\n",
       "      <td>NaN</td>\n",
       "      <td>False</td>\n",
       "    </tr>\n",
       "    <tr>\n",
       "      <th>...</th>\n",
       "      <td>...</td>\n",
       "      <td>...</td>\n",
       "    </tr>\n",
       "    <tr>\n",
       "      <th>11445</th>\n",
       "      <td>Ağaoğlu Maslak 1453</td>\n",
       "      <td>True</td>\n",
       "    </tr>\n",
       "    <tr>\n",
       "      <th>11446</th>\n",
       "      <td>NaN</td>\n",
       "      <td>False</td>\n",
       "    </tr>\n",
       "    <tr>\n",
       "      <th>11447</th>\n",
       "      <td>NaN</td>\n",
       "      <td>False</td>\n",
       "    </tr>\n",
       "    <tr>\n",
       "      <th>11448</th>\n",
       "      <td>Skyland İstanbul (İstanbul, Sarıyer, Huzur)</td>\n",
       "      <td>True</td>\n",
       "    </tr>\n",
       "    <tr>\n",
       "      <th>11449</th>\n",
       "      <td>NaN</td>\n",
       "      <td>False</td>\n",
       "    </tr>\n",
       "  </tbody>\n",
       "</table>\n",
       "<p>11450 rows × 2 columns</p>\n",
       "</div>"
      ],
      "text/plain": [
       "                                   Site İçerisinde  Site İçerisinde Binary\n",
       "0                                              NaN                   False\n",
       "1                                              NaN                   False\n",
       "2                                              NaN                   False\n",
       "3                                              NaN                   False\n",
       "4                                              NaN                   False\n",
       "...                                            ...                     ...\n",
       "11445                          Ağaoğlu Maslak 1453                    True\n",
       "11446                                          NaN                   False\n",
       "11447                                          NaN                   False\n",
       "11448  Skyland İstanbul (İstanbul, Sarıyer, Huzur)                    True\n",
       "11449                                          NaN                   False\n",
       "\n",
       "[11450 rows x 2 columns]"
      ]
     },
     "execution_count": 13,
     "metadata": {},
     "output_type": "execute_result"
    }
   ],
   "source": [
    "df[[\"Site İçerisinde\",\"Site İçerisinde Binary\"]]"
   ]
  },
  {
   "cell_type": "markdown",
   "id": "7db2defa",
   "metadata": {},
   "source": [
    "# Yakıt tipi"
   ]
  },
  {
   "cell_type": "code",
   "execution_count": 6,
   "id": "f74226f7",
   "metadata": {},
   "outputs": [
    {
     "data": {
      "text/plain": [
       "{'Doğalgaz': 0, 'Elektrik': 0, 'Kömür-Odun': 0, 'Akaryakıt': 0, 'nan': 0}"
      ]
     },
     "execution_count": 6,
     "metadata": {},
     "output_type": "execute_result"
    }
   ],
   "source": [
    "df[\"Yakıt Tipi\"].unique()\n",
    "yakıt_dict=dict()\n",
    "for i in df[\"Yakıt Tipi\"].unique():\n",
    "    if isinstance(i, str):\n",
    "        yakıt_dict[i]=0\n",
    "yakıt_dict[\"nan\"]=0\n",
    "yakıt_dict\n"
   ]
  },
  {
   "cell_type": "code",
   "execution_count": 7,
   "id": "00579833",
   "metadata": {},
   "outputs": [
    {
     "data": {
      "text/plain": [
       "{'Doğalgaz': 7996,\n",
       " 'Elektrik': 335,\n",
       " 'Kömür-Odun': 30,\n",
       " 'Akaryakıt': 11,\n",
       " 'nan': 3078}"
      ]
     },
     "execution_count": 7,
     "metadata": {},
     "output_type": "execute_result"
    }
   ],
   "source": [
    "for _, row in df.iterrows():\n",
    "    try:\n",
    "        yakıt_dict[row[\"Yakıt Tipi\"]]+=1\n",
    "    except:\n",
    "        yakıt_dict[\"nan\"]+=1\n",
    "        \n",
    "yakıt_dict\n",
    "    \n"
   ]
  },
  {
   "cell_type": "markdown",
   "id": "abc20702",
   "metadata": {},
   "source": [
    "# Cephe"
   ]
  },
  {
   "cell_type": "code",
   "execution_count": 8,
   "id": "81db5d81",
   "metadata": {},
   "outputs": [],
   "source": [
    "cephe={\"Doğu\":[],\"Batı\":[],\"Kuzey\":[],\"Güney\":[],\"nan\":[]}\n",
    "for _, row in df.iterrows():\n",
    "    if isinstance(row[\"Cephe\"], str):\n",
    "        for c in cephe:\n",
    "            cephe[c].append(False)\n",
    "        for i in row[\"Cephe\"].split(\",\"):\n",
    "            i=i.replace(\" \",\"\") \n",
    "            cephe[i][-1]=cephe[i][-1] or True\n",
    "    else:\n",
    "        for c in cephe:\n",
    "            cephe[c].append(False)\n",
    "            cephe[\"nan\"][-1]= True \n",
    "    "
   ]
  },
  {
   "cell_type": "code",
   "execution_count": 9,
   "id": "17308a90",
   "metadata": {},
   "outputs": [],
   "source": [
    "df['dogu']=cephe[\"Doğu\"]\n",
    "df['bati']=cephe[\"Batı\"]\n",
    "df['kuzey']=cephe[\"Kuzey\"]\n",
    "df['guney']=cephe[\"Güney\"]\n",
    "df['cephe=nan']=cephe[\"nan\"]"
   ]
  },
  {
   "cell_type": "code",
   "execution_count": 10,
   "id": "e5611d84",
   "metadata": {},
   "outputs": [
    {
     "data": {
      "text/html": [
       "<div>\n",
       "<style scoped>\n",
       "    .dataframe tbody tr th:only-of-type {\n",
       "        vertical-align: middle;\n",
       "    }\n",
       "\n",
       "    .dataframe tbody tr th {\n",
       "        vertical-align: top;\n",
       "    }\n",
       "\n",
       "    .dataframe thead th {\n",
       "        text-align: right;\n",
       "    }\n",
       "</style>\n",
       "<table border=\"1\" class=\"dataframe\">\n",
       "  <thead>\n",
       "    <tr style=\"text-align: right;\">\n",
       "      <th></th>\n",
       "      <th>Cephe</th>\n",
       "      <th>dogu</th>\n",
       "      <th>bati</th>\n",
       "      <th>kuzey</th>\n",
       "      <th>guney</th>\n",
       "      <th>cephe=nan</th>\n",
       "    </tr>\n",
       "  </thead>\n",
       "  <tbody>\n",
       "    <tr>\n",
       "      <th>0</th>\n",
       "      <td>Kuzey</td>\n",
       "      <td>False</td>\n",
       "      <td>False</td>\n",
       "      <td>True</td>\n",
       "      <td>False</td>\n",
       "      <td>False</td>\n",
       "    </tr>\n",
       "    <tr>\n",
       "      <th>1</th>\n",
       "      <td>Güney, Doğu, Batı</td>\n",
       "      <td>True</td>\n",
       "      <td>True</td>\n",
       "      <td>False</td>\n",
       "      <td>True</td>\n",
       "      <td>False</td>\n",
       "    </tr>\n",
       "    <tr>\n",
       "      <th>2</th>\n",
       "      <td>Güney, Doğu, Batı</td>\n",
       "      <td>True</td>\n",
       "      <td>True</td>\n",
       "      <td>False</td>\n",
       "      <td>True</td>\n",
       "      <td>False</td>\n",
       "    </tr>\n",
       "    <tr>\n",
       "      <th>3</th>\n",
       "      <td>Kuzey, Güney, Doğu, Batı</td>\n",
       "      <td>True</td>\n",
       "      <td>True</td>\n",
       "      <td>True</td>\n",
       "      <td>True</td>\n",
       "      <td>False</td>\n",
       "    </tr>\n",
       "    <tr>\n",
       "      <th>4</th>\n",
       "      <td>Doğu, Batı</td>\n",
       "      <td>True</td>\n",
       "      <td>True</td>\n",
       "      <td>False</td>\n",
       "      <td>False</td>\n",
       "      <td>False</td>\n",
       "    </tr>\n",
       "    <tr>\n",
       "      <th>...</th>\n",
       "      <td>...</td>\n",
       "      <td>...</td>\n",
       "      <td>...</td>\n",
       "      <td>...</td>\n",
       "      <td>...</td>\n",
       "      <td>...</td>\n",
       "    </tr>\n",
       "    <tr>\n",
       "      <th>11445</th>\n",
       "      <td>NaN</td>\n",
       "      <td>False</td>\n",
       "      <td>False</td>\n",
       "      <td>False</td>\n",
       "      <td>False</td>\n",
       "      <td>True</td>\n",
       "    </tr>\n",
       "    <tr>\n",
       "      <th>11446</th>\n",
       "      <td>Güney</td>\n",
       "      <td>False</td>\n",
       "      <td>False</td>\n",
       "      <td>False</td>\n",
       "      <td>True</td>\n",
       "      <td>False</td>\n",
       "    </tr>\n",
       "    <tr>\n",
       "      <th>11447</th>\n",
       "      <td>Güney, Batı</td>\n",
       "      <td>False</td>\n",
       "      <td>True</td>\n",
       "      <td>False</td>\n",
       "      <td>True</td>\n",
       "      <td>False</td>\n",
       "    </tr>\n",
       "    <tr>\n",
       "      <th>11448</th>\n",
       "      <td>Kuzey, Güney, Doğu, Batı</td>\n",
       "      <td>True</td>\n",
       "      <td>True</td>\n",
       "      <td>True</td>\n",
       "      <td>True</td>\n",
       "      <td>False</td>\n",
       "    </tr>\n",
       "    <tr>\n",
       "      <th>11449</th>\n",
       "      <td>Güney, Doğu, Batı</td>\n",
       "      <td>True</td>\n",
       "      <td>True</td>\n",
       "      <td>False</td>\n",
       "      <td>True</td>\n",
       "      <td>False</td>\n",
       "    </tr>\n",
       "  </tbody>\n",
       "</table>\n",
       "<p>11450 rows × 6 columns</p>\n",
       "</div>"
      ],
      "text/plain": [
       "                          Cephe   dogu   bati  kuzey  guney  cephe=nan\n",
       "0                         Kuzey  False  False   True  False      False\n",
       "1             Güney, Doğu, Batı   True   True  False   True      False\n",
       "2             Güney, Doğu, Batı   True   True  False   True      False\n",
       "3      Kuzey, Güney, Doğu, Batı   True   True   True   True      False\n",
       "4                    Doğu, Batı   True   True  False  False      False\n",
       "...                         ...    ...    ...    ...    ...        ...\n",
       "11445                       NaN  False  False  False  False       True\n",
       "11446                     Güney  False  False  False   True      False\n",
       "11447               Güney, Batı  False   True  False   True      False\n",
       "11448  Kuzey, Güney, Doğu, Batı   True   True   True   True      False\n",
       "11449         Güney, Doğu, Batı   True   True  False   True      False\n",
       "\n",
       "[11450 rows x 6 columns]"
      ]
     },
     "execution_count": 10,
     "metadata": {},
     "output_type": "execute_result"
    }
   ],
   "source": [
    "df[[\"Cephe\",\"dogu\",\"bati\",\"kuzey\",\"guney\",\"cephe=nan\"]]"
   ]
  },
  {
   "cell_type": "markdown",
   "id": "d02dbfd3",
   "metadata": {},
   "source": [
    "# Kullanım Durumu\n"
   ]
  },
  {
   "cell_type": "code",
   "execution_count": 11,
   "id": "a36ac995",
   "metadata": {},
   "outputs": [],
   "source": [
    "yakıt_dict=dict()\n",
    "for i in df[\"Kullanım Durumu\"].unique():\n",
    "    if isinstance(i, str):\n",
    "        yakıt_dict[i]=0\n",
    "yakıt_dict[\"nan\"]=0\n",
    "yakıt_dict\n",
    "\n",
    "for _, row in df.iterrows():\n",
    "    try:\n",
    "        yakıt_dict[row[\"Kullanım Durumu\"]]+=1\n",
    "    except:\n",
    "        yakıt_dict[\"nan\"]+=1\n",
    "        \n",
    "yakıt_dict\n",
    "\n",
    "\n",
    "for i, row in df.iterrows():\n",
    "    if not isinstance(row[\"Kullanım Durumu\"], str):\n",
    "        df.at[i,\"Kullanım Durumu\"]='Belirtilmemiş'\n"
   ]
  },
  {
   "cell_type": "code",
   "execution_count": 12,
   "id": "4f1b0ca5",
   "metadata": {},
   "outputs": [
    {
     "data": {
      "text/plain": [
       "{'Boş': 9455,\n",
       " 'Mülk Sahibi': 518,\n",
       " 'Kiracılı': 636,\n",
       " 'Belirtilmemiş': 841,\n",
       " 'nan': 0}"
      ]
     },
     "execution_count": 12,
     "metadata": {},
     "output_type": "execute_result"
    }
   ],
   "source": [
    "df[\"Kullanım Durumu\"].unique()\n",
    "yakıt_dict=dict()\n",
    "for i in df[\"Kullanım Durumu\"].unique():\n",
    "    if isinstance(i, str):\n",
    "        yakıt_dict[i]=0\n",
    "yakıt_dict[\"nan\"]=0\n",
    "yakıt_dict\n",
    "\n",
    "for _, row in df.iterrows():\n",
    "    try:\n",
    "        yakıt_dict[row[\"Kullanım Durumu\"]]+=1\n",
    "    except:\n",
    "        yakıt_dict[\"nan\"]+=1\n",
    "        \n",
    "yakıt_dict\n",
    "    \n"
   ]
  }
 ],
 "metadata": {
  "kernelspec": {
   "display_name": "Python 3 (ipykernel)",
   "language": "python",
   "name": "python3"
  },
  "language_info": {
   "codemirror_mode": {
    "name": "ipython",
    "version": 3
   },
   "file_extension": ".py",
   "mimetype": "text/x-python",
   "name": "python",
   "nbconvert_exporter": "python",
   "pygments_lexer": "ipython3",
   "version": "3.9.7"
  }
 },
 "nbformat": 4,
 "nbformat_minor": 5
}
